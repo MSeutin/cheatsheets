{
  "nbformat": 4,
  "nbformat_minor": 0,
  "metadata": {
    "colab": {
      "name": "02_linear-systems-3unknowns.ipynb",
      "provenance": [],
      "collapsed_sections": []
    },
    "kernelspec": {
      "name": "python3",
      "display_name": "Python 3"
    },
    "language_info": {
      "name": "python"
    }
  },
  "cells": [
    {
      "cell_type": "markdown",
      "metadata": {
        "id": "dDGoMUY-QKKW"
      },
      "source": [
        "# Linear Systems with Three Unknowns\n",
        "\n",
        "Example\n",
        "\n",
        "[1] $-x-5y+z=17$\n",
        "\n",
        "[2] $-5x-5y+5z=5$\n",
        "\n",
        "[3] $2x+5y-3z=-10$\n",
        "\n",
        "By adding [1] and [3] we remove the $y$ terms.\n",
        "\n",
        "$(-x-5y+z)+(2x+5y-3z)=17+(-10)$, we get \n",
        "\n",
        "$x-2z=7$\n",
        "\n",
        "We can also remove the $y$ terms by adding [2] and [3].\n",
        "\n",
        "$(-5x-5y+5z)+(2x+5y-3z)=(5)+(-10)$, we get\n",
        "\n",
        "$-3x+2z=-5$\n",
        "\n",
        "Now we can remove $z$ from our 2 new equations by adding them.\n",
        "\n",
        "$(x-2z)+(-3x+2z)=7+(-5)$, we get\n",
        "\n",
        "$-2x=2$, or $x=-1$\n",
        "\n",
        "Choose one of the new equations, and plug in -1 for x, and then solve for $z$. We'll choose $x-2z=7$.\n",
        "\n",
        "$-1-2z=7$ gives $z=-4$\n",
        "\n",
        "Now choose one of the three original equations, and plug in $-1$ for $x$ and $-4$ for $z$, and then solve for $y$.  We'll choose equation [1].\n",
        "\n",
        "[1]$-x-5y+z=17$ which is $-(-1)-5y+(-4)=17$, we get\n",
        "\n",
        "$y=-4$, the solution is\n",
        "\n",
        "$(-1, -4, -4)$ or $x=-1, y=-4, z=-4$.\n",
        "\n",
        "\n"
      ]
    }
  ]
}