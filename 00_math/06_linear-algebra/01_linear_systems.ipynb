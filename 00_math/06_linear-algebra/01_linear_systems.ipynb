{
  "nbformat": 4,
  "nbformat_minor": 0,
  "metadata": {
    "colab": {
      "name": "01_linear-systems.ipynb",
      "provenance": [],
      "collapsed_sections": []
    },
    "kernelspec": {
      "name": "python3",
      "display_name": "Python 3"
    },
    "language_info": {
      "name": "python"
    }
  },
  "cells": [
    {
      "cell_type": "markdown",
      "metadata": {
        "id": "2Mf6tc4AUIP5"
      },
      "source": [
        ""
      ]
    },
    {
      "cell_type": "markdown",
      "metadata": {
        "id": "s2Z0s4qrUc91"
      },
      "source": [
        "# Linear systems in two unknowns\n",
        "\n",
        "A **linear system** of equations has linear variables (the variables are first degree, or raised ot the power of 1).\n",
        "\n",
        "## Substitution Method\n",
        "\n",
        "1. Get a variable by itself in one of the equations.\n",
        "2. Take the expression you got for the variable in step 1, and plug it (substitute it using parentheses) into the other equation.\n",
        "3. Solve the equation in step 2 for the remaining variable.\n",
        "4. Use the result from step 3 and plug it into the equation form step 1.\n",
        "\n",
        "Example\n",
        "\n",
        "$y=x+3$\n",
        "\n",
        "$2x-3y=10$\n",
        "\n",
        "$2x-3(x+3)=10$\n",
        "\n",
        "Solve for x. Start by distributing the $-3$.\n",
        "\n",
        "$2x-3x-9=10$\n",
        "\n",
        "Combine like terms.\n",
        "\n",
        "$-x-9=10$\n",
        "\n",
        "Add 9 to both sides.\n",
        "\n",
        "$-x=19$\n",
        "\n",
        "$x=-19$\n",
        "\n",
        "To find $y$, we'll plug in $-19$ for $x$ in the first equation.\n",
        "\n",
        "$y=x+3$\n",
        "\n",
        "$y=-19+3$\n",
        "\n",
        "$y=-16$\n",
        "\n",
        "The unique solution is (-19, -16)\n",
        "\n",
        "## Elimination Method\n",
        "\n",
        "1. Align the x-terms, the y-terms.\n",
        "2. Multiply equations to cancel terms.\n",
        "3. Add or subtract equations.\n",
        "4. Solve remaining variables.\n",
        "5. Plug result of step 4 into original equations & solve.\n",
        "\n",
        "Example\n",
        "\n",
        "$y=3x-4$\n",
        "\n",
        "$-x+2y=12$\n",
        "\n",
        "Rearrange first equation\n",
        "\n",
        "$-3x+y=-4$\n",
        "\n",
        "So we are left with \n",
        "\n",
        "$-3x+y=-4$\n",
        "\n",
        "$-x+2y=12$\n",
        "\n",
        "Multiply first equation by 2 so that the y-terms will cancel when we subtract the equations.\n",
        "\n",
        "$-6x+2y-(-x+2y)=-8-(12)$\n",
        "\n",
        "$-6x+2y+x-2y=-20$\n",
        "\n",
        "$-5x=-20$\n",
        "\n",
        "$x=4$\n",
        "\n",
        "To solve for $y$, we'll plug in 4 for x in the original first equation.\n",
        "\n",
        "$y=3x-4$\n",
        "\n",
        "$y=3(4)-4$\n",
        "\n",
        "$y=12-4$\n",
        "\n",
        "$y=8$\n",
        "\n",
        "The unique solution is (4,8).\n",
        "\n",
        "## Graphing Method\n",
        "\n",
        "1. Solve for $y$ in each equation.\n",
        "2. Graph both equations on the same Cartesian coordinate system.\n",
        "3. Find the point of intersection of the lines (the point where the lines cross).\n",
        "\n",
        "Example\n",
        "\n",
        "Graph both equations to find the solution of the system.\n",
        "\n",
        "$x+3y=12$\n",
        "\n",
        "$2x-y=5$\n",
        "\n",
        "In order to graph theser equations, let's put both of them into slope-intercept form.  Start with the first equation of the system.  We get \n",
        "\n",
        "$x+3y=12$\n",
        "\n",
        "$3y=-x+12$\n",
        "\n",
        "$y=-\\frac{1}{3}x+4$\n",
        "\n",
        "Now we take the second equation.\n",
        "\n",
        "$2x-y=5$\n",
        "\n",
        "$-y=-2x+5$\n",
        "\n",
        "$y=2x-5$\n",
        "\n",
        "\n",
        "\n",
        "\n",
        "\n",
        "\n",
        "\n"
      ]
    },
    {
      "cell_type": "code",
      "metadata": {
        "id": "m3Wr_HIYYien",
        "colab": {
          "base_uri": "https://localhost:8080/",
          "height": 265
        },
        "outputId": "20ddc915-55c3-4cb5-b59e-9ef093eea043"
      },
      "source": [
        "import numpy as np\n",
        "import matplotlib.pyplot as plt\n",
        "# intercepts\n",
        "i1 = 4\n",
        "i2 = -5\n",
        "\n",
        "# slopes\n",
        "s1 = -(1/3)\n",
        "s2 = 2\n",
        "\n",
        "x=np.linspace(1,10,50)\n",
        "plt.plot(x, s1*x + i1)\n",
        "plt.plot(x, s2*x + i2)\n",
        "plt.show()"
      ],
      "execution_count": null,
      "outputs": [
        {
          "output_type": "display_data",
          "data": {
            "image/png": "[encoded data removed]",
            "text/plain": [
              "<Figure size 432x288 with 1 Axes>"
            ]
          },
          "metadata": {
            "tags": [],
            "needs_background": "light"
          }
        }
      ]
    },
    {
      "cell_type": "markdown",
      "metadata": {
        "id": "mxEoiiPD3YY5"
      },
      "source": [
        "Looking at the intersection point, it appears as though the solution is approximately (3.75, 2.75)."
      ]
    }
  ]
}