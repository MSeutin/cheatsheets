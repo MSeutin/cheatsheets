{
  "nbformat": 4,
  "nbformat_minor": 0,
  "metadata": {
    "colab": {
      "name": "Copy of 01_linear-systems.ipynb",
      "provenance": []
    },
    "kernelspec": {
      "name": "python3",
      "display_name": "Python 3"
    },
    "language_info": {
      "name": "python"
    }
  },
  "cells": [
    {
      "cell_type": "markdown",
      "metadata": {
        "id": "2Mf6tc4AUIP5"
      },
      "source": [
        ""
      ]
    },
    {
      "cell_type": "markdown",
      "metadata": {
        "id": "s2Z0s4qrUc91"
      },
      "source": [
        "# Linear systems in two unknowns\n",
        "\n",
        "A **linear system** of equations has linear variables (the variables are first degree, or raised ot the power of 1).\n",
        "\n",
        "## Substitution Method\n",
        "\n",
        "1. Get a variable by itself in one of the equations.\n",
        "2. Take the expression you got for the variable in step 1, and plug it (substitute it using parentheses) into the other equation.\n",
        "3. Solve the equation in step 2 for the remaining variable.\n",
        "4. Use the result from step 3 and plug it into the equation form step 1.\n",
        "\n",
        "Example\n",
        "\n",
        "$y=x+3$\n",
        "\n",
        "$2x-3y=10$\n",
        "\n",
        "$2x-3(x+3)=10$\n",
        "\n",
        "Solve for x. Start by distributing the $-3$.\n",
        "\n",
        "$2x-3x-9=10$\n",
        "\n",
        "Combine like terms.\n",
        "\n",
        "$-x-9=10$\n",
        "\n",
        "Add 9 to both sides.\n",
        "\n",
        "$-x=19$\n",
        "\n",
        "$x=-19$\n",
        "\n",
        "To find $y$, we'll plug in $-19$ for $x$ in the first equation.\n",
        "\n",
        "$y=x+3$\n",
        "\n",
        "$y=-19+3$\n",
        "\n",
        "$y=-16$\n",
        "\n",
        "The unique solution is (-19, -16)\n",
        "\n",
        "## Elimination Method\n",
        "\n",
        "\n"
      ]
    },
    {
      "cell_type": "code",
      "metadata": {
        "id": "m3Wr_HIYYien"
      },
      "source": [
        "# run code below\n",
        "print(\"He is a Genius\")"
      ],
      "execution_count": null,
      "outputs": []
    }
  ]
}