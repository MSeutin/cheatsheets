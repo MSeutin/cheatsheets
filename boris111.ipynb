{
  "nbformat": 4,
  "nbformat_minor": 0,
  "metadata": {
    "colab": {
      "name": "boris111.ipynb",
      "provenance": [],
      "authorship_tag": "ABX9TyNaIC5DZyI/bjijGUYZ5dpt",
      "include_colab_link": true
    },
    "kernelspec": {
      "name": "python3",
      "display_name": "Python 3"
    },
    "language_info": {
      "name": "python"
    }
  },
  "cells": [
    {
      "cell_type": "markdown",
      "metadata": {
        "id": "view-in-github",
        "colab_type": "text"
      },
      "source": [
        "<a href=\"https://colab.research.google.com/github/MSeutin/cheatsheets/blob/main/boris111.ipynb\" target=\"_parent\"><img src=\"https://colab.research.google.com/assets/colab-badge.svg\" alt=\"Open In Colab\"/></a>"
      ]
    },
    {
      "cell_type": "code",
      "metadata": {
        "colab": {
          "base_uri": "https://localhost:8080/"
        },
        "id": "b3bEhzdOJN6B",
        "outputId": "bd961ada-ca2b-4ba6-d8c4-6130be683841"
      },
      "source": [
        "print(\"this is a try out\")"
      ],
      "execution_count": 1,
      "outputs": [
        {
          "output_type": "stream",
          "text": [
            "this is a try out\n"
          ],
          "name": "stdout"
        }
      ]
    }
  ]
}